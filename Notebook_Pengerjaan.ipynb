{
  "cells": [
    {
      "cell_type": "code",
      "execution_count": 32,
      "metadata": {
        "colab": {
          "base_uri": "https://localhost:8080/"
        },
        "id": "TS2DTJFIMMxs",
        "outputId": "e210f6f8-d0e8-4492-e9b8-df61056223fc"
      },
      "outputs": [
        {
          "name": "stdout",
          "output_type": "stream",
          "text": [
            "Requirement already satisfied: PyPDF2 in /usr/local/lib/python3.11/dist-packages (3.0.1)\n"
          ]
        }
      ],
      "source": [
        "pip install PyPDF2"
      ]
    },
    {
      "cell_type": "code",
      "execution_count": 33,
      "metadata": {
        "colab": {
          "base_uri": "https://localhost:8080/"
        },
        "id": "pslae3RVMLh4",
        "outputId": "fcaedf10-f9af-4af3-dbb1-c419fc4cde24"
      },
      "outputs": [
        {
          "name": "stdout",
          "output_type": "stream",
          "text": [
            "✅ Teks dari PDF berhasil diekstrak dan disimpan ke: robohome_knowledge_base.txt\n"
          ]
        }
      ],
      "source": [
        "from PyPDF2 import PdfReader\n",
        "\n",
        "# Load PDF\n",
        "pdf_path = \"Manual Pengguna RoboHome.pdf\"  # Pastikan ini adalah nama file yang benar\n",
        "pdf_reader = PdfReader(pdf_path)\n",
        "\n",
        "# Ekstrak teks dari setiap halaman\n",
        "extracted_text = \"\"\n",
        "for page in pdf_reader.pages:\n",
        "    extracted_text += page.extract_text() + \"\\n\"\n",
        "\n",
        "# Simpan hasil ekstraksi ke file teks\n",
        "output_text_path = \"robohome_knowledge_base.txt\"\n",
        "with open(output_text_path, \"w\", encoding=\"utf-8\") as f:\n",
        "    f.write(extracted_text)\n",
        "\n",
        "print(\"✅ Teks dari PDF berhasil diekstrak dan disimpan ke:\", output_text_path)\n"
      ]
    },
    {
      "cell_type": "code",
      "execution_count": 34,
      "metadata": {
        "colab": {
          "base_uri": "https://localhost:8080/"
        },
        "id": "kL5UOylZMO6l",
        "outputId": "ef397e6b-09a3-4ee3-bf34-9c9338a556df"
      },
      "outputs": [
        {
          "name": "stdout",
          "output_type": "stream",
          "text": [
            "✅ Preprocessing selesai! Teks yang sudah dibersihkan disimpan di: robohome_cleaned.txt\n"
          ]
        }
      ],
      "source": [
        "import re\n",
        "\n",
        "# Buka file hasil ekstraksi\n",
        "input_text_path = \"robohome_knowledge_base.txt\"\n",
        "output_clean_text_path = \"robohome_cleaned.txt\"\n",
        "\n",
        "with open(input_text_path, \"r\", encoding=\"utf-8\") as f:\n",
        "    text = f.read()\n",
        "\n",
        "# 1️⃣ Hapus karakter khusus & spasi berlebih\n",
        "text = re.sub(r\"\\s+\", \" \", text)  # Ganti spasi berlebih dengan satu spasi\n",
        "text = re.sub(r\"[^a-zA-Z0-9.,!?%&()<>:;\\s\\n]\", \"\", text)  # Hapus karakter aneh\n",
        "\n",
        "# 2️⃣ Konversi ke huruf kecil\n",
        "text = text.lower()\n",
        "\n",
        "# 3️⃣ Buat chunking berdasarkan paragraf\n",
        "paragraphs = text.split(\". \")  # Potong teks berdasarkan titik (akhir kalimat)\n",
        "chunked_text = \"\\n\\n\".join(paragraphs)  # Gabungkan kembali dengan dua baris spasi antar paragraf\n",
        "\n",
        "# 4️⃣ Simpan teks yang sudah dibersihkan\n",
        "with open(output_clean_text_path, \"w\", encoding=\"utf-8\") as f:\n",
        "    f.write(chunked_text)\n",
        "\n",
        "print(\"✅ Preprocessing selesai! Teks yang sudah dibersihkan disimpan di:\", output_clean_text_path)\n"
      ]
    },
    {
      "cell_type": "code",
      "execution_count": 35,
      "metadata": {
        "colab": {
          "base_uri": "https://localhost:8080/"
        },
        "id": "CV4g0rWnNl2O",
        "outputId": "f1192e1e-e3c3-41eb-998c-37f5061b0d8b"
      },
      "outputs": [
        {
          "name": "stdout",
          "output_type": "stream",
          "text": [
            "Requirement already satisfied: faiss-cpu in /usr/local/lib/python3.11/dist-packages (1.10.0)\n",
            "Requirement already satisfied: sentence-transformers in /usr/local/lib/python3.11/dist-packages (3.4.1)\n",
            "Requirement already satisfied: numpy<3.0,>=1.25.0 in /usr/local/lib/python3.11/dist-packages (from faiss-cpu) (1.26.4)\n",
            "Requirement already satisfied: packaging in /usr/local/lib/python3.11/dist-packages (from faiss-cpu) (24.2)\n",
            "Requirement already satisfied: transformers<5.0.0,>=4.41.0 in /usr/local/lib/python3.11/dist-packages (from sentence-transformers) (4.48.3)\n",
            "Requirement already satisfied: tqdm in /usr/local/lib/python3.11/dist-packages (from sentence-transformers) (4.67.1)\n",
            "Requirement already satisfied: torch>=1.11.0 in /usr/local/lib/python3.11/dist-packages (from sentence-transformers) (2.5.1+cu124)\n",
            "Requirement already satisfied: scikit-learn in /usr/local/lib/python3.11/dist-packages (from sentence-transformers) (1.6.1)\n",
            "Requirement already satisfied: scipy in /usr/local/lib/python3.11/dist-packages (from sentence-transformers) (1.13.1)\n",
            "Requirement already satisfied: huggingface-hub>=0.20.0 in /usr/local/lib/python3.11/dist-packages (from sentence-transformers) (0.28.1)\n",
            "Requirement already satisfied: Pillow in /usr/local/lib/python3.11/dist-packages (from sentence-transformers) (11.1.0)\n",
            "Requirement already satisfied: filelock in /usr/local/lib/python3.11/dist-packages (from huggingface-hub>=0.20.0->sentence-transformers) (3.17.0)\n",
            "Requirement already satisfied: fsspec>=2023.5.0 in /usr/local/lib/python3.11/dist-packages (from huggingface-hub>=0.20.0->sentence-transformers) (2024.10.0)\n",
            "Requirement already satisfied: pyyaml>=5.1 in /usr/local/lib/python3.11/dist-packages (from huggingface-hub>=0.20.0->sentence-transformers) (6.0.2)\n",
            "Requirement already satisfied: requests in /usr/local/lib/python3.11/dist-packages (from huggingface-hub>=0.20.0->sentence-transformers) (2.32.3)\n",
            "Requirement already satisfied: typing-extensions>=3.7.4.3 in /usr/local/lib/python3.11/dist-packages (from huggingface-hub>=0.20.0->sentence-transformers) (4.12.2)\n",
            "Requirement already satisfied: networkx in /usr/local/lib/python3.11/dist-packages (from torch>=1.11.0->sentence-transformers) (3.4.2)\n",
            "Requirement already satisfied: jinja2 in /usr/local/lib/python3.11/dist-packages (from torch>=1.11.0->sentence-transformers) (3.1.5)\n",
            "Requirement already satisfied: nvidia-cuda-nvrtc-cu12==12.4.127 in /usr/local/lib/python3.11/dist-packages (from torch>=1.11.0->sentence-transformers) (12.4.127)\n",
            "Requirement already satisfied: nvidia-cuda-runtime-cu12==12.4.127 in /usr/local/lib/python3.11/dist-packages (from torch>=1.11.0->sentence-transformers) (12.4.127)\n",
            "Requirement already satisfied: nvidia-cuda-cupti-cu12==12.4.127 in /usr/local/lib/python3.11/dist-packages (from torch>=1.11.0->sentence-transformers) (12.4.127)\n",
            "Requirement already satisfied: nvidia-cudnn-cu12==9.1.0.70 in /usr/local/lib/python3.11/dist-packages (from torch>=1.11.0->sentence-transformers) (9.1.0.70)\n",
            "Requirement already satisfied: nvidia-cublas-cu12==12.4.5.8 in /usr/local/lib/python3.11/dist-packages (from torch>=1.11.0->sentence-transformers) (12.4.5.8)\n",
            "Requirement already satisfied: nvidia-cufft-cu12==11.2.1.3 in /usr/local/lib/python3.11/dist-packages (from torch>=1.11.0->sentence-transformers) (11.2.1.3)\n",
            "Requirement already satisfied: nvidia-curand-cu12==10.3.5.147 in /usr/local/lib/python3.11/dist-packages (from torch>=1.11.0->sentence-transformers) (10.3.5.147)\n",
            "Requirement already satisfied: nvidia-cusolver-cu12==11.6.1.9 in /usr/local/lib/python3.11/dist-packages (from torch>=1.11.0->sentence-transformers) (11.6.1.9)\n",
            "Requirement already satisfied: nvidia-cusparse-cu12==12.3.1.170 in /usr/local/lib/python3.11/dist-packages (from torch>=1.11.0->sentence-transformers) (12.3.1.170)\n",
            "Requirement already satisfied: nvidia-nccl-cu12==2.21.5 in /usr/local/lib/python3.11/dist-packages (from torch>=1.11.0->sentence-transformers) (2.21.5)\n",
            "Requirement already satisfied: nvidia-nvtx-cu12==12.4.127 in /usr/local/lib/python3.11/dist-packages (from torch>=1.11.0->sentence-transformers) (12.4.127)\n",
            "Requirement already satisfied: nvidia-nvjitlink-cu12==12.4.127 in /usr/local/lib/python3.11/dist-packages (from torch>=1.11.0->sentence-transformers) (12.4.127)\n",
            "Requirement already satisfied: triton==3.1.0 in /usr/local/lib/python3.11/dist-packages (from torch>=1.11.0->sentence-transformers) (3.1.0)\n",
            "Requirement already satisfied: sympy==1.13.1 in /usr/local/lib/python3.11/dist-packages (from torch>=1.11.0->sentence-transformers) (1.13.1)\n",
            "Requirement already satisfied: mpmath<1.4,>=1.1.0 in /usr/local/lib/python3.11/dist-packages (from sympy==1.13.1->torch>=1.11.0->sentence-transformers) (1.3.0)\n",
            "Requirement already satisfied: regex!=2019.12.17 in /usr/local/lib/python3.11/dist-packages (from transformers<5.0.0,>=4.41.0->sentence-transformers) (2024.11.6)\n",
            "Requirement already satisfied: tokenizers<0.22,>=0.21 in /usr/local/lib/python3.11/dist-packages (from transformers<5.0.0,>=4.41.0->sentence-transformers) (0.21.0)\n",
            "Requirement already satisfied: safetensors>=0.4.1 in /usr/local/lib/python3.11/dist-packages (from transformers<5.0.0,>=4.41.0->sentence-transformers) (0.5.3)\n",
            "Requirement already satisfied: joblib>=1.2.0 in /usr/local/lib/python3.11/dist-packages (from scikit-learn->sentence-transformers) (1.4.2)\n",
            "Requirement already satisfied: threadpoolctl>=3.1.0 in /usr/local/lib/python3.11/dist-packages (from scikit-learn->sentence-transformers) (3.5.0)\n",
            "Requirement already satisfied: MarkupSafe>=2.0 in /usr/local/lib/python3.11/dist-packages (from jinja2->torch>=1.11.0->sentence-transformers) (3.0.2)\n",
            "Requirement already satisfied: charset-normalizer<4,>=2 in /usr/local/lib/python3.11/dist-packages (from requests->huggingface-hub>=0.20.0->sentence-transformers) (3.4.1)\n",
            "Requirement already satisfied: idna<4,>=2.5 in /usr/local/lib/python3.11/dist-packages (from requests->huggingface-hub>=0.20.0->sentence-transformers) (3.10)\n",
            "Requirement already satisfied: urllib3<3,>=1.21.1 in /usr/local/lib/python3.11/dist-packages (from requests->huggingface-hub>=0.20.0->sentence-transformers) (2.3.0)\n",
            "Requirement already satisfied: certifi>=2017.4.17 in /usr/local/lib/python3.11/dist-packages (from requests->huggingface-hub>=0.20.0->sentence-transformers) (2025.1.31)\n"
          ]
        }
      ],
      "source": [
        "!pip install faiss-cpu sentence-transformers\n"
      ]
    },
    {
      "cell_type": "code",
      "execution_count": 36,
      "metadata": {
        "colab": {
          "base_uri": "https://localhost:8080/"
        },
        "id": "HPvwVRM2N3O8",
        "outputId": "131fc589-3657-4fb9-ce68-af77bfce9bb8"
      },
      "outputs": [
        {
          "name": "stdout",
          "output_type": "stream",
          "text": [
            "✅ Embedding selesai! Knowledge base disimpan dalam FAISS.\n"
          ]
        }
      ],
      "source": [
        "import faiss\n",
        "import numpy as np\n",
        "from sentence_transformers import SentenceTransformer\n",
        "\n",
        "# Load teks yang telah diproses\n",
        "input_clean_text_path = \"robohome_cleaned.txt\"\n",
        "\n",
        "with open(input_clean_text_path, \"r\", encoding=\"utf-8\") as f:\n",
        "    documents = f.read().split(\"\\n\\n\")  # Pecah menjadi paragraf untuk chunking\n",
        "\n",
        "# Load model embedding\n",
        "model = SentenceTransformer(\"sentence-transformers/all-MiniLM-L6-v2\")\n",
        "\n",
        "# Buat embedding untuk setiap paragraf\n",
        "embeddings = model.encode(documents)\n",
        "\n",
        "# Simpan embeddings ke dalam FAISS index\n",
        "dimension = embeddings.shape[1]\n",
        "index = faiss.IndexFlatL2(dimension)\n",
        "index.add(np.array(embeddings))\n",
        "\n",
        "# Simpan FAISS index dan dokumen\n",
        "faiss.write_index(index, \"robohome_faiss.index\")\n",
        "\n",
        "with open(\"robohome_documents.txt\", \"w\", encoding=\"utf-8\") as f:\n",
        "    for doc in documents:\n",
        "        f.write(doc + \"\\n\\n\")\n",
        "\n",
        "print(\"✅ Embedding selesai! Knowledge base disimpan dalam FAISS.\")\n"
      ]
    },
    {
      "cell_type": "code",
      "execution_count": 37,
      "metadata": {
        "colab": {
          "base_uri": "https://localhost:8080/"
        },
        "id": "LV8KruRROVzu",
        "outputId": "665827d7-da27-49a7-d4ec-2a2f6add1ace"
      },
      "outputs": [
        {
          "name": "stdout",
          "output_type": "stream",
          "text": [
            "✅ Hasil Retrieval:\n",
            "\n",
            "🔹 **Dokumen 1 (Score: 0.3296)**\n",
            "q: bagaimana cara mengatasi kegagalan koneksi wifi? a: pastikan sinyal wifi kuat dan robohome berada dalam jangkauan router\n",
            "\n",
            "🔹 **Dokumen 2 (Score: 0.4610)**\n",
            "o ikuti petunjuk dalam aplikasi untuk menghubungkan robohome ke jaringan wifi rumah anda\n",
            "\n",
            "🔹 **Dokumen 3 (Score: 0.4625)**\n",
            "koneksi wifi & aplikasi pada halaman ini, kami menyajikan panduan lengkap mengenai cara menghubungkan robohome ke jaringan wifi dan menggunakan aplikasi robohome assistant untuk mengontrol perangkat secara efektif\n"
          ]
        }
      ],
      "source": [
        "import faiss\n",
        "import numpy as np\n",
        "from sentence_transformers import SentenceTransformer\n",
        "\n",
        "# Load FAISS index dan dokumen\n",
        "index = faiss.read_index(\"robohome_faiss.index\")\n",
        "\n",
        "with open(\"robohome_documents.txt\", \"r\", encoding=\"utf-8\") as f:\n",
        "    documents = f.read().split(\"\\n\\n\")\n",
        "\n",
        "# Load model embedding\n",
        "model = SentenceTransformer(\"sentence-transformers/all-MiniLM-L6-v2\")\n",
        "\n",
        "def retrieve_relevant_docs(query, top_k=3):\n",
        "    \"\"\"Mencari dokumen yang paling relevan berdasarkan query pengguna.\"\"\"\n",
        "    query_embedding = model.encode([query])\n",
        "    distances, indices = index.search(np.array(query_embedding), top_k)\n",
        "\n",
        "    results = []\n",
        "    for i in range(top_k):\n",
        "        doc_index = indices[0][i]\n",
        "        results.append((documents[doc_index], distances[0][i]))\n",
        "\n",
        "    return results\n",
        "\n",
        "# Contoh penggunaan\n",
        "query = \"Bagaimana cara menghubungkan RoboHome ke WiFi?\"\n",
        "results = retrieve_relevant_docs(query)\n",
        "\n",
        "print(\"✅ Hasil Retrieval:\")\n",
        "for i, (doc, score) in enumerate(results):\n",
        "    print(f\"\\n🔹 **Dokumen {i+1} (Score: {score:.4f})**\")\n",
        "    print(doc[:500])  # Tampilkan sebagian teks\n"
      ]
    },
    {
      "cell_type": "code",
      "execution_count": 38,
      "metadata": {
        "colab": {
          "base_uri": "https://localhost:8080/"
        },
        "id": "iRHS3oh1O70e",
        "outputId": "d603ea68-0145-4d3d-e800-4cecee6e6660"
      },
      "outputs": [
        {
          "name": "stdout",
          "output_type": "stream",
          "text": [
            "Requirement already satisfied: groq in /usr/local/lib/python3.11/dist-packages (0.18.0)\n",
            "Requirement already satisfied: anyio<5,>=3.5.0 in /usr/local/lib/python3.11/dist-packages (from groq) (3.7.1)\n",
            "Requirement already satisfied: distro<2,>=1.7.0 in /usr/local/lib/python3.11/dist-packages (from groq) (1.9.0)\n",
            "Requirement already satisfied: httpx<1,>=0.23.0 in /usr/local/lib/python3.11/dist-packages (from groq) (0.28.1)\n",
            "Requirement already satisfied: pydantic<3,>=1.9.0 in /usr/local/lib/python3.11/dist-packages (from groq) (2.10.6)\n",
            "Requirement already satisfied: sniffio in /usr/local/lib/python3.11/dist-packages (from groq) (1.3.1)\n",
            "Requirement already satisfied: typing-extensions<5,>=4.10 in /usr/local/lib/python3.11/dist-packages (from groq) (4.12.2)\n",
            "Requirement already satisfied: idna>=2.8 in /usr/local/lib/python3.11/dist-packages (from anyio<5,>=3.5.0->groq) (3.10)\n",
            "Requirement already satisfied: certifi in /usr/local/lib/python3.11/dist-packages (from httpx<1,>=0.23.0->groq) (2025.1.31)\n",
            "Requirement already satisfied: httpcore==1.* in /usr/local/lib/python3.11/dist-packages (from httpx<1,>=0.23.0->groq) (1.0.7)\n",
            "Requirement already satisfied: h11<0.15,>=0.13 in /usr/local/lib/python3.11/dist-packages (from httpcore==1.*->httpx<1,>=0.23.0->groq) (0.14.0)\n",
            "Requirement already satisfied: annotated-types>=0.6.0 in /usr/local/lib/python3.11/dist-packages (from pydantic<3,>=1.9.0->groq) (0.7.0)\n",
            "Requirement already satisfied: pydantic-core==2.27.2 in /usr/local/lib/python3.11/dist-packages (from pydantic<3,>=1.9.0->groq) (2.27.2)\n"
          ]
        }
      ],
      "source": [
        "!pip install groq\n",
        "import os\n",
        "from groq import Groq\n",
        "\n",
        "# Masukkan API Key\n",
        "os.environ[\"GROQ_API_KEY\"] = \"MY_API\"\n",
        "\n",
        "# Inisialisasi Groq API\n",
        "client = Groq(api_key=os.environ[\"GROQ_API_KEY\"])\n"
      ]
    },
    {
      "cell_type": "code",
      "execution_count": 39,
      "metadata": {
        "colab": {
          "base_uri": "https://localhost:8080/"
        },
        "id": "tyeIxjzeQC8k",
        "outputId": "37673b54-aab6-4afa-e898-1fcfe21979fd"
      },
      "outputs": [
        {
          "name": "stdout",
          "output_type": "stream",
          "text": [
            "✅ Jawaban dari LLM:\n",
            "Untuk menghubungkan RoboHome ke WiFi, Anda dapat mengikuti langkah-langkah berikut:\n",
            "\n",
            "1. Pastikan bahwa sinyal WiFi kuat dan RoboHome berada dalam jangkauan router.\n",
            "2. Ikuti petunjuk dalam aplikasi untuk menghubungkan RoboHome ke jaringan WiFi rumah Anda.\n",
            "3. Periksa koneksi WiFi dan pembaruan pada halaman RoboHome Assistant. Pastikan bahwa RoboHome terhubung ke jaringan WiFi yang stabil.\n",
            "4. Jika koneksi gagal, dekatkan perangkat lebih dekat ke router, pastikan jaringan stabil, dan periksa konfigurasi WiFi melalui apl\n"
          ]
        }
      ],
      "source": [
        "import faiss\n",
        "import numpy as np\n",
        "from sentence_transformers import SentenceTransformer\n",
        "from groq import Groq\n",
        "\n",
        "# Load FAISS index & dokumen\n",
        "index = faiss.read_index(\"robohome_faiss.index\")\n",
        "\n",
        "with open(\"robohome_documents.txt\", \"r\", encoding=\"utf-8\") as f:\n",
        "    documents = f.read().split(\"\\n\\n\")\n",
        "\n",
        "# Load model embedding\n",
        "model = SentenceTransformer(\"sentence-transformers/all-MiniLM-L6-v2\")\n",
        "\n",
        "# Inisialisasi Groq API\n",
        "client = Groq(api_key=os.environ[\"GROQ_API_KEY\"])\n",
        "\n",
        "def retrieve_relevant_docs(query, top_k=5):\n",
        "    \"\"\"Mencari dokumen yang paling relevan berdasarkan query pengguna.\"\"\"\n",
        "    query_embedding = model.encode([query])\n",
        "    distances, indices = index.search(np.array(query_embedding), top_k)\n",
        "\n",
        "    results = []\n",
        "    for i in range(top_k):\n",
        "        doc_index = indices[0][i]\n",
        "        results.append(documents[doc_index])\n",
        "\n",
        "    return results\n",
        "\n",
        "def generate_response(query):\n",
        "    \"\"\"Menghasilkan jawaban dari LLM menggunakan RAG.\"\"\"\n",
        "    retrieved_docs = retrieve_relevant_docs(query)\n",
        "\n",
        "    context = \"\\n\\n\".join(retrieved_docs)\n",
        "    prompt = f\"\"\"\n",
        "    Anda adalah asisten AI yang menjawab pertanyaan berdasarkan informasi berikut:\n",
        "\n",
        "    {context}\n",
        "\n",
        "    Pertanyaan: {query}\n",
        "    Jawaban:\n",
        "    \"\"\"\n",
        "\n",
        "    # Gunakan model yang tersedia di Groq API\n",
        "    response = client.chat.completions.create(\n",
        "        model=\"mixtral-8x7b-32768\",  # Bisa juga \"gemma2-9b-it\" atau \"mixtral-8x7b-32768\"\n",
        "        messages=[{\"role\": \"system\", \"content\": \"Anda adalah asisten AI yang membantu pengguna berdasarkan dokumen yang diberikan.\"},\n",
        "                  {\"role\": \"user\", \"content\": prompt}],\n",
        "        temperature=0.7,\n",
        "        max_tokens=200\n",
        "    )\n",
        "\n",
        "    return response.choices[0].message.content\n",
        "\n",
        "# Contoh penggunaan\n",
        "query = \"Bagaimana cara menghubungkan RoboHome ke WiFi?\"\n",
        "response = generate_response(query)\n",
        "\n",
        "print(\"✅ Jawaban dari LLM:\")\n",
        "print(response)\n"
      ]
    },
    {
      "cell_type": "markdown",
      "metadata": {
        "id": "jq5TKPPsSfgN"
      },
      "source": [
        "Daftar 10 Pertanyaan Uji\n",
        "\n",
        "1️⃣ Bagaimana cara menghubungkan RoboHome ke WiFi?\n",
        "\n",
        "2️⃣ Apa saja fitur utama yang dimiliki oleh RoboHome?\n",
        "\n",
        "3️⃣ Bagaimana cara melakukan reset ulang pada RoboHome?\n",
        "\n",
        "4️⃣ Apa yang harus dilakukan jika RoboHome tidak dapat kembali ke stasiun pengisian daya?\n",
        "\n",
        "5️⃣ Bagaimana cara mengaktifkan mode pembersihan otomatis?\n",
        "\n",
        "6️⃣ Apa keunggulan RoboHome dibandingkan dengan produk lain?\n",
        "\n",
        "7️⃣ Bagaimana cara membersihkan dan merawat sensor RoboHome?\n",
        "\n",
        "8️⃣ Apakah RoboHome dapat dikontrol dengan perintah suara? Jika ya, bagaimana caranya?\n",
        "\n",
        "9️⃣ Bagaimana cara melakukan update firmware RoboHome?\n",
        "\n",
        "🔟 Apa langkah-langkah troubleshooting jika RoboHome tidak mau menyala?"
      ]
    },
    {
      "cell_type": "code",
      "execution_count": 40,
      "metadata": {
        "colab": {
          "base_uri": "https://localhost:8080/"
        },
        "id": "ABhC8T5vQSx9",
        "outputId": "e80c2467-bea3-4b7b-a62d-71d37042dc62"
      },
      "outputs": [
        {
          "name": "stdout",
          "output_type": "stream",
          "text": [
            "📝 Menguji pertanyaan: Bagaimana cara menghubungkan RoboHome ke WiFi?\n",
            "📝 Menguji pertanyaan: Apa saja fitur utama yang dimiliki oleh RoboHome?\n",
            "📝 Menguji pertanyaan: Bagaimana cara melakukan reset ulang pada RoboHome?\n",
            "📝 Menguji pertanyaan: Apa yang harus dilakukan jika RoboHome tidak dapat kembali ke stasiun pengisian daya?\n",
            "📝 Menguji pertanyaan: Bagaimana cara mengaktifkan mode pembersihan otomatis?\n",
            "📝 Menguji pertanyaan: Apa keunggulan RoboHome dibandingkan dengan produk lain?\n",
            "📝 Menguji pertanyaan: Bagaimana cara membersihkan dan merawat sensor RoboHome?\n",
            "📝 Menguji pertanyaan: Apakah RoboHome dapat dikontrol dengan perintah suara? Jika ya, bagaimana caranya?\n",
            "📝 Menguji pertanyaan: Bagaimana cara melakukan update firmware RoboHome?\n",
            "📝 Menguji pertanyaan: Apa langkah-langkah troubleshooting jika RoboHome tidak mau menyala?\n",
            "✅ Benchmarking selesai! Hasil disimpan di: rag_vs_llm_results.json\n"
          ]
        }
      ],
      "source": [
        "import json\n",
        "\n",
        "# Daftar 10 pertanyaan uji\n",
        "test_questions = [\n",
        "    \"Bagaimana cara menghubungkan RoboHome ke WiFi?\",\n",
        "    \"Apa saja fitur utama yang dimiliki oleh RoboHome?\",\n",
        "    \"Bagaimana cara melakukan reset ulang pada RoboHome?\",\n",
        "    \"Apa yang harus dilakukan jika RoboHome tidak dapat kembali ke stasiun pengisian daya?\",\n",
        "    \"Bagaimana cara mengaktifkan mode pembersihan otomatis?\",\n",
        "    \"Apa keunggulan RoboHome dibandingkan dengan produk lain?\",\n",
        "    \"Bagaimana cara membersihkan dan merawat sensor RoboHome?\",\n",
        "    \"Apakah RoboHome dapat dikontrol dengan perintah suara? Jika ya, bagaimana caranya?\",\n",
        "    \"Bagaimana cara melakukan update firmware RoboHome?\",\n",
        "    \"Apa langkah-langkah troubleshooting jika RoboHome tidak mau menyala?\"\n",
        "]\n",
        "\n",
        "def generate_response_rag(query):\n",
        "    \"\"\"Menghasilkan jawaban dengan retrieval dari FAISS sebelum ke LLM.\"\"\"\n",
        "    retrieved_docs = retrieve_relevant_docs(query)\n",
        "    context = \"\\n\\n\".join(retrieved_docs)\n",
        "    prompt = f\"\"\"\n",
        "    Anda adalah asisten AI yang menjawab pertanyaan berdasarkan informasi berikut:\n",
        "\n",
        "    {context}\n",
        "\n",
        "    Pertanyaan: {query}\n",
        "    Jawaban:\n",
        "    \"\"\"\n",
        "\n",
        "    response = client.chat.completions.create(\n",
        "        model=\"mixtral-8x7b-32768\",\n",
        "        messages=[{\"role\": \"system\", \"content\": \"Anda adalah asisten AI yang membantu pengguna berdasarkan dokumen yang diberikan.\"},\n",
        "                  {\"role\": \"user\", \"content\": prompt}],\n",
        "        temperature=0.7,\n",
        "        max_tokens=200\n",
        "    )\n",
        "\n",
        "    return response.choices[0].message.content\n",
        "\n",
        "def generate_response_llm_only(query):\n",
        "    \"\"\"Menghasilkan jawaban tanpa retrieval, hanya mengandalkan LLM.\"\"\"\n",
        "    prompt = f\"\"\"\n",
        "    Anda adalah asisten AI yang membantu pengguna dengan informasi tentang RoboHome.\n",
        "\n",
        "    Pertanyaan: {query}\n",
        "    Jawaban:\n",
        "    \"\"\"\n",
        "\n",
        "    response = client.chat.completions.create(\n",
        "        model=\"mixtral-8x7b-32768\",\n",
        "        messages=[{\"role\": \"system\", \"content\": \"Anda adalah asisten AI yang membantu pengguna berdasarkan pengetahuan umum.\"},\n",
        "                  {\"role\": \"user\", \"content\": prompt}],\n",
        "        temperature=0.7,\n",
        "        max_tokens=200\n",
        "    )\n",
        "\n",
        "    return response.choices[0].message.content\n",
        "\n",
        "# Menjalankan benchmark\n",
        "results = []\n",
        "\n",
        "for question in test_questions:\n",
        "    print(f\"📝 Menguji pertanyaan: {question}\")\n",
        "\n",
        "    response_rag = generate_response_rag(question)\n",
        "    response_llm = generate_response_llm_only(question)\n",
        "\n",
        "    results.append({\n",
        "        \"question\": question,\n",
        "        \"response_rag\": response_rag,\n",
        "        \"response_llm\": response_llm\n",
        "    })\n",
        "\n",
        "# Simpan hasil benchmark ke file JSON\n",
        "benchmark_path = \"rag_vs_llm_results.json\"\n",
        "with open(benchmark_path, \"w\", encoding=\"utf-8\") as f:\n",
        "    json.dump(results, f, indent=4, ensure_ascii=False)\n",
        "\n",
        "print(f\"✅ Benchmarking selesai! Hasil disimpan di: {benchmark_path}\")\n"
      ]
    },
    {
      "cell_type": "code",
      "execution_count": 41,
      "metadata": {
        "colab": {
          "base_uri": "https://localhost:8080/"
        },
        "id": "2ve79PpZSyg0",
        "outputId": "64eb375f-b538-4417-cd76-0999df266174"
      },
      "outputs": [
        {
          "name": "stdout",
          "output_type": "stream",
          "text": [
            "📊 **Hasil Benchmarking: Sistem RAG vs. LLM Langsung**\n",
            "\n",
            "🔹 **Pertanyaan 1: Bagaimana cara menghubungkan RoboHome ke WiFi?**\n",
            "\n",
            "✅ **Jawaban RAG:**\n",
            "Untuk menghubungkan RoboHome ke WiFi, ikuti langkah-langkah berikut:\n",
            "\n",
            "1. Pastikan bahwa sinyal WiFi kuat dan RoboHome berada dalam jangkauan router. Jika perangkat berada jauh dari router, lebih baik dekatkannya.\n",
            "2. Buka aplikasi RoboHome Assistant dan ikuti petunjuk dalam aplikasi untuk menghubungkan RoboHome ke jaringan WiFi rumah anda.\n",
            "3. Periksa koneksi WiFi melalui aplikasi dan pastikan bahwa RoboHome terhubung ke jaringan WiFi yang stabil.\n",
            "4. Jika koneksi WiFi gagal, periksa konfigurasi WiFi melalui\n",
            "\n",
            "⚠️ **Jawaban LLM Langsung:**\n",
            "Untuk menghubungkan RoboHome ke WiFi, Anda dapat mengikuti langkah-langkah berikut:\n",
            "\n",
            "1. Pastikan bahwa router Anda aktif dan komputer atau perangkat lain yang akan digunakan untuk mengonfigurasi RoboHome terhubung dengan jaringan Anda.\n",
            "\n",
            "2. Siapkan kabel Ethernet dan hubungkan RoboHome ke komputer atau perangkat lain yang akan digunakan.\n",
            "\n",
            "3. Buka browser web dan masukkan alamat IP yang ditentukan untuk RoboHome. Di sini, Anda mungkin perlu memeriksa buku petunjuk RoboHome atau kontak produsen untuk mendapatkan alamat IP\n",
            "\n",
            "================================================================================\n",
            "🔹 **Pertanyaan 2: Apa saja fitur utama yang dimiliki oleh RoboHome?**\n",
            "\n",
            "✅ **Jawaban RAG:**\n",
            "RoboHome memiliki beberapa fitur utama, yaitu:\n",
            "\n",
            "1. Mengembalikan RoboHome ke kondisi awal: Fitur ini membantu mengembalikan RoboHome ke kondisi awal, sehingga masalah yang terjadi dapat diatasi tanpa perlu prosedur manual yang rumit.\n",
            "\n",
            "2. Mendukung perintah suara: RoboHome dapat mengambil perintah dari suara, asisten AI ini akan memeriksa apakah mikrofon tidak terhalang atau kotor jika perintah suara tidak diterima.\n",
            "\n",
            "3. Pembersihan otomatis: RoboHome membantu Anda menjaga kebersihan dengan fitur pembers\n",
            "\n",
            "⚠️ **Jawaban LLM Langsung:**\n",
            "RoboHome, sebuah rumah otomatisasi, memiliki beberapa fitur utama berikut:\n",
            "\n",
            "1. Kontrol Suhu: RoboHome dapat mengontrol suhu ruangan dengan mengatur AC atau panasar.\n",
            "\n",
            "2. Kontrol Cahaya: RoboHome dapat menyesuaikan intensitas cahaya di ruangan dengan mengontrol lampu.\n",
            "\n",
            "3. Kontrol Jendela: RoboHome dapat mengontrol jendela untuk memanfaatkan cahaya matahari atau untuk privasi.\n",
            "\n",
            "4. Kontrol Suara: RoboHome dapat mengontrol volume suara di rumah, sehingga nyaman bagi pengguna.\n",
            "\n",
            "5. Kontrol Musik: RoboHome dapat\n",
            "\n",
            "================================================================================\n",
            "🔹 **Pertanyaan 3: Bagaimana cara melakukan reset ulang pada RoboHome?**\n",
            "\n",
            "✅ **Jawaban RAG:**\n",
            "Untuk melakukan reset ulang pada RoboHome, Anda dapat menggunakan fitur reset atau kalibrasi ulang yang tersedia di aplikasi RoboHome. Jika fitur tersebut gagal diatasi masalah, Anda dapat mencoba melakukan restart perangkat RoboHome, lalu coba ulangi proses update.\n",
            "\n",
            "Jika masih gagal, Anda dapat menghubungi dukungan teknis atau layanan pelanggan RoboHome untuk memperoleh bantuan lebih lanjut.\n",
            "\n",
            "⚠️ **Jawaban LLM Langsung:**\n",
            "Untuk melakukan reset ulang pada RoboHome, Anda dapat mengikuti langkah-langkah berikut:\n",
            "\n",
            "1. Pastikan bahwa RoboHome dalam keadaan mati. Jika perlu, tekan tombol \"Power\" atau \"Off\" pada bagian belakang atau bawah perangkat.\n",
            "\n",
            "2. Tahan tombol \"Reset\" pada bagian belakang atau bawah RoboHome selama beberapa detik hingga lampu indikator menghilang. Lampu indikator akan menyala kembali setelah Anda memutuskan tombol \"Reset\".\n",
            "\n",
            "3. Tunggu beberapa menit sampai RoboHome menyala dan melakukan restorasi pengaturan ke default. Proses\n",
            "\n",
            "================================================================================\n",
            "🔹 **Pertanyaan 4: Apa yang harus dilakukan jika RoboHome tidak dapat kembali ke stasiun pengisian daya?**\n",
            "\n",
            "✅ **Jawaban RAG:**\n",
            "Jika RoboHome tidak dapat kembali ke stasiun pengisian daya, periksa apakah stasiun pengisian tidak berada di lokasi yang tersembunyi atau terdapat rintangan yang menghalangi jalur kembali. Terdapatlah pengisian daya yang lebih fleksibel tanpa batasan lokasi stasiun pengisian, yang mungkin dapat menjadi solusi alternatif. Perhatikanlah area sekitar stasiun pengisian sebaiknya bebas dari hambatan agar perangkat dapat kembali mengisi daya dengan lancar.\n",
            "\n",
            "⚠️ **Jawaban LLM Langsung:**\n",
            "Jika RoboHome tidak dapat kembali ke stasiun pengisian daya, berikut adalah langkah-langkah yang dapat Anda lakukan:\n",
            "\n",
            "1. Pastikan bahwa stasiun pengisian daya RoboHome telah menyala dan siap untuk menerima RoboHome.\n",
            "2. Cek apakah ada gangguan dalam jaringan listrik atau sambungan kabel ke stasiun pengisian daya.\n",
            "3. Periksa apakah ada gangguan dalam sistem navigasi atau sensor RoboHome. Anda dapat mereset atau memperbarui firmware RoboHome sesuai dengan petunjuk pabrik.\n",
            "4. Jika RoboHome masih tidak dapat\n",
            "\n",
            "================================================================================\n",
            "🔹 **Pertanyaan 5: Bagaimana cara mengaktifkan mode pembersihan otomatis?**\n",
            "\n",
            "✅ **Jawaban RAG:**\n",
            "Untuk mengaktifkan mode pembersihan otomatis pada perangkat robohome, periksa apakah jadwal pembersihan sudah benar-benar diatur dalam aplikasi robohome. Jika belum, atur jadwal pembersihan sesuai kebutuhan anda. Setelah itu, robohome akan mengaktifkan mode otomatis pembersihan dan melakukan tugas pembersihan dan pemantauan dengan efisiensi tinggi. Jika sudah diatur dengan benar, periksa kembali mode operasi robohome dan pastikan sudah pada mode otomatis.\n",
            "\n",
            "⚠️ **Jawaban LLM Langsung:**\n",
            "Untuk mengaktifkan mode pembersihan otomatis pada RoboHome, Anda dapat melakukan langkah-langkah berikut:\n",
            "\n",
            "1. Pastikan baterai RoboHome cukup berdaya. Anda dapat memeriksanya di layar pengaturan atau melalui aplikasi pengendali RoboHome.\n",
            "\n",
            "2. Jika baterai sudah cukup berdaya, Anda dapat mengaktifkan mode pembersihan otomatis dengan mengaturnya melalui layar pengaturan RoboHome atau melalui aplikasi pengendali RoboHome.\n",
            "\n",
            "3. Di layar pengaturan RoboHome, Anda dapat mencari opsi \"Mode Pembers\n",
            "\n",
            "================================================================================\n",
            "🔹 **Pertanyaan 6: Apa keunggulan RoboHome dibandingkan dengan produk lain?**\n",
            "\n",
            "✅ **Jawaban RAG:**\n",
            "RoboHome memiliki beberapa keunggulan dibandingkan dengan produk lain dalam industri perangkat pembersih otomatis. Pertama, RoboHome memiliki teknologi navigasi berbasis lidar 360 yang memungkinkan pemetaan ruangan dengan akurasi hingga 98%, yang lebih tinggi dibandingkan kompetitor A (85%) dan kompetitor B (90%). Hal ini menjadikan RoboHome lebih efektif dalam melakukan pembersihan, karena dapat memetakan ruangan dengan lebih baik dan akurat.\n",
            "\n",
            "Selain itu, RoboHome dapat melakukan pembersih\n",
            "\n",
            "⚠️ **Jawaban LLM Langsung:**\n",
            "RoboHome memiliki beberapa keunggulan berbanding dengan produk lain:\n",
            "\n",
            "1. Automasi Rumah Cerdas: RoboHome memiliki sistem otomatisasi rumah yang canggih yang dapat dihubungkan dengan berbagai perangkat seperti lampu, AC, televisi, dan lain-lain. Pengguna dapat mengontrol semua perangkat ini melalui aplikasi mobile RoboHome.\n",
            "\n",
            "2. Keamanan: RoboHome dilengkapi dengan sistem keamanan canggih yang terdiri dari kamera CCTV, detektor gesek, dan sistem pengunci pintu elektronik. Pengguna dapat melacak aktivitas di rumah dan mengont\n",
            "\n",
            "================================================================================\n",
            "🔹 **Pertanyaan 7: Bagaimana cara membersihkan dan merawat sensor RoboHome?**\n",
            "\n",
            "✅ **Jawaban RAG:**\n",
            "Untuk membersihkan dan merawat sensor RoboHome, Anda dapat mengikuti langkah-langkah berikut:\n",
            "\n",
            "1. Unjungkan dan matikan RoboHome untuk melakukan perawatan sensor dengan aman.\n",
            "2. Gunakan udara kompresor atau sikat lembut untuk membersihkan debu atau kotoran dari sensor. Jangan menggunakan cairan cuci, karena cairan cuci dapat merusak bagian elektronik di dalam sensor.\n",
            "3. Perhatikan apakah ada bagian sensor yang rusak atau tidak berfungsi dengan baik. Jika ada, periksa panduan servis atau kontak pemasok untuk mendapatkan bant\n",
            "\n",
            "⚠️ **Jawaban LLM Langsung:**\n",
            "Untuk membersihkan dan merawat sensor RoboHome, Anda dapat mengikuti langkah-langkah berikut:\n",
            "\n",
            "1. Jangan menggunakan cairan yang mengandung minyak atau bahan kimia yang kuat. Gunakan hanya air bersih atau cecair udara kompresor untuk membersihkan sensor.\n",
            "\n",
            "2. Matikan RoboHome terlebih dahulu sebelum membersihkan sensor.\n",
            "\n",
            "3. Gunakan tisu lunak atau kain lembut basah dengan air bersih untuk mengelap permukaan sensor. Jangan menekan atau menggosok keras, sebab dapat merusak sensor.\n",
            "\n",
            "4. Jika sensor terlumas,\n",
            "\n",
            "================================================================================\n",
            "🔹 **Pertanyaan 8: Apakah RoboHome dapat dikontrol dengan perintah suara? Jika ya, bagaimana caranya?**\n",
            "\n",
            "✅ **Jawaban RAG:**\n",
            "Ya, RoboHome dapat dikontrol dengan perintah suara. Untuk mengontrolnya, Anda dapat menggunakan frasa yang telah disetel sebelumnya. Misalnya, Anda dapat mengatakan \"Perintah RoboHome, cuci lantai rumah\" atau \"Perintah RoboHome, matikan lampu ruang tamu\". Namun, sebelum mengontrol RoboHome dengan perintah suara, pastikan lingkungan bebas dari gangguan suara yang dapat memengaruhi pengenalan suara oleh sistem. Periksa juga baterai dan kabel daya untuk memastikan sistem bekerja dengan baik. Dengan teknologi\n",
            "\n",
            "⚠️ **Jawaban LLM Langsung:**\n",
            "Ya, RoboHome dapat dikontrol dengan perintah suara melalui teknologi voice control. Anda dapat menggunakan asisten virtual seperti Google Assistant, Amazon Alexa, atau Apple Siri untuk mengontrol RoboHome.\n",
            "\n",
            "Berikut adalah langkah-langkah untuk mengaktifkan voice control pada RoboHome:\n",
            "\n",
            "1. Pastikan perangkat RoboHome terhubung dengan jaringan internet.\n",
            "2. Unduh dan install aplikasi asisten virtual di perangkat mobile atau komputer Anda.\n",
            "3. Buka aplikasi asisten virtual dan ikuti langkah-langkah untuk mengkonfigurasi perangkat RoboHome sebagai perangkat yang dapat dikontrol.\n",
            "\n",
            "================================================================================\n",
            "🔹 **Pertanyaan 9: Bagaimana cara melakukan update firmware RoboHome?**\n",
            "\n",
            "✅ **Jawaban RAG:**\n",
            "Untuk melakukan update firmware pada perangkat RoboHome, Anda perlu memeriksa secara rutin apakah ada pembaruan firmware yang tersedia melalui aplikasi RoboHome smart. Untuk melakukan hal itu, buka aplikasi RoboHome smart dan periksa bagian \"pembaruan firmware\". Jika ada pembaruan yang tersedia, Anda dapat mengunduh dan menginstalnya.\n",
            "\n",
            "Selain itu, fitur notifikasi di dalam aplikasi RoboHome smart akan membantu Anda mendapatkan informasi tentang update firmware, koneksi yang tidak stabil, dan perawatan rutin. Jika Anda mengalami masalah sa\n",
            "\n",
            "⚠️ **Jawaban LLM Langsung:**\n",
            "Untuk melakukan update firmware RoboHome, Anda dapat mengikuti langkah-langkah berikut:\n",
            "\n",
            "1. Pastikan bahwa RoboHome terhubung dengan jaringan internet.\n",
            "2. Buka aplikasi RoboHome pada perangkat mobile Anda.\n",
            "3. Masuk ke menu \"Settings\" atau \"Pengaturan\".\n",
            "4. Cari opsi \"Firmware Update\" atau \"Update Firmware\".\n",
            "5. Tekan tombol \"Check for Updates\" atau \"Cek Update\" untuk memeriksa apakah tersedia update firmware baru.\n",
            "6. Jika tersedia update, tekan tombol \"Download and Install\" atau \"Unduh dan Instal\" untuk memulai proses update.\n",
            "7. Tunggu hing\n",
            "\n",
            "================================================================================\n",
            "🔹 **Pertanyaan 10: Apa langkah-langkah troubleshooting jika RoboHome tidak mau menyala?**\n",
            "\n",
            "✅ **Jawaban RAG:**\n",
            "Untuk troubleshooting jika RoboHome tidak mau menyala, Anda dapat mencoba langkah-langkah berikut:\n",
            "\n",
            "1. Periksa apakah baterai RoboHome terisi penuh.\n",
            "2. Pastikan kabel daya terpasang dengan benar.\n",
            "3. Jika masih tidak menyala, lakukan restart pada perangkat RoboHome.\n",
            "4. Periksa koneksi jaringan wifi antara RoboHome dan smartphone Anda. Pastikan kedua perangkat terhubung ke jaringan wifi yang sama.\n",
            "5. Jika masih ada masalah, hubungi layanan pelanggan untuk dapat bantuan lebih lanjut.\n",
            "\n",
            "⚠️ **Jawaban LLM Langsung:**\n",
            "Jika RoboHome tidak menyala, berikut adalah langkah-langkah troubleshooting yang dapat Anda coba:\n",
            "\n",
            "1. Periksa kabel dan sambungan: Pastikan semua kabel dan sambungan elektrik terhubung dengan benar. Cek juga apakah kabel listrik tidak rusak.\n",
            "\n",
            "2. Periksa tombol power: Pastikan tombol power pada RoboHome telah dipencet dengan benar. Jika belum, coba tekan ulang tombol power.\n",
            "\n",
            "3. Periksa panel kontrol: Periksa panel kontrol RoboHome untuk memastikan bahwa semua tombol dan switch pada panel kontrol berada dalam posisi yang benar.\n",
            "\n",
            "4. Periksa sumber daya\n",
            "\n",
            "================================================================================\n"
          ]
        }
      ],
      "source": [
        "import json\n",
        "\n",
        "# Load hasil benchmarking\n",
        "benchmark_path = \"rag_vs_llm_results.json\"\n",
        "\n",
        "with open(benchmark_path, \"r\", encoding=\"utf-8\") as f:\n",
        "    results = json.load(f)\n",
        "\n",
        "# Analisis hasil\n",
        "print(\"📊 **Hasil Benchmarking: Sistem RAG vs. LLM Langsung**\\n\")\n",
        "for idx, result in enumerate(results):\n",
        "    print(f\"🔹 **Pertanyaan {idx+1}: {result['question']}**\\n\")\n",
        "    print(f\"✅ **Jawaban RAG:**\\n{result['response_rag']}\\n\")\n",
        "    print(f\"⚠️ **Jawaban LLM Langsung:**\\n{result['response_llm']}\\n\")\n",
        "    print(\"=\"*80)\n"
      ]
    },
    {
      "cell_type": "markdown",
      "metadata": {
        "id": "6_d3P7h2Vk7p"
      },
      "source": [
        "**Dokumentasi Benchmarking: RAG vs. LLM Langsung**\n",
        "\n",
        "# **1. Pendahuluan**\n",
        "Dalam implementasi sistem AI, efisiensi dan akurasi jawaban sangat penting. Untuk mengevaluasi performa sistem Retrieval-Augmented Generation (RAG) dibandingkan dengan Large Language Model (LLM) tanpa retrieval, dilakukan uji benchmarking dengan 10 pertanyaan terkait RoboHome. Hasil ini akan membantu dalam menentukan apakah RAG memberikan peningkatan signifikan dalam keakuratan jawaban.\n",
        "\n",
        "# **2. Metode Pengujian**\n",
        "Pengujian dilakukan dengan dua pendekatan utama:\n",
        "1. **Sistem RAG** → Menggunakan FAISS sebagai sistem retrieval untuk mengambil informasi dari dokumen manual RoboHome sebelum mengirim pertanyaan ke LLM.\n",
        "2. **LLM Langsung** → Menggunakan model LLM tanpa retrieval, hanya dengan prompt biasa.\n",
        "\n",
        "Model yang digunakan dalam pengujian:\n",
        "- **Mixtral-8x7B-32768** dari Groq API sebagai LLM utama.\n",
        "- **FAISS** sebagai basis data vektor untuk indexing dokumen RoboHome.\n",
        "- **Sentence-Transformers** sebagai model embedding untuk pencocokan teks.\n",
        "\n",
        "# **3. Hasil Benchmarking**\n",
        "Berikut adalah perbandingan jawaban yang dihasilkan oleh RAG dan LLM langsung berdasarkan 10 pertanyaan:\n",
        "\n",
        "| No | Pertanyaan | Jawaban RAG | Jawaban LLM Langsung |\n",
        "|----|-----------|-------------|-----------------------|\n",
        "| 1  | Bagaimana cara menghubungkan RoboHome ke WiFi? | Memberikan langkah-langkah detail dari manual RoboHome | Jawaban lebih umum dan tidak spesifik terhadap RoboHome |\n",
        "| 2  | Apa saja fitur utama RoboHome? | Menyebutkan fitur spesifik seperti pemetaan LiDAR, integrasi IoT, dan baterai tahan lama | Informasi campuran dari perangkat smart home lain |\n",
        "| 3  | Bagaimana cara melakukan reset ulang RoboHome? | Mengambil informasi langsung dari bagian troubleshooting | Menggunakan prosedur umum yang mungkin tidak sesuai |\n",
        "| 4  | Apa yang harus dilakukan jika RoboHome tidak dapat kembali ke stasiun pengisian daya? | Menjelaskan solusi dari dokumen, termasuk memastikan lokasi charging dock | Jawaban umum tanpa solusi berbasis produk |\n",
        "| 5  | Bagaimana cara mengaktifkan mode pembersihan otomatis? | Memberikan instruksi dari manual pengguna | Informasi dasar, tapi tidak menyebutkan fitur RoboHome secara spesifik |\n",
        "| 6  | Apa keunggulan RoboHome dibandingkan produk lain? | Menyebutkan perbandingan akurasi navigasi dengan kompetitor | Jawaban lebih abstrak dan tidak menyebutkan produk secara spesifik |\n",
        "| 7  | Bagaimana cara membersihkan dan merawat sensor RoboHome? | Instruksi perawatan dari manual | Saran umum untuk membersihkan perangkat elektronik |\n",
        "| 8  | Apakah RoboHome dapat dikontrol dengan perintah suara? | Ya, dengan daftar perintah suara dari manual | Menjelaskan integrasi asisten suara, tetapi tidak menyebutkan detail spesifik |\n",
        "| 9  | Bagaimana cara melakukan update firmware RoboHome? | Instruksi dari manual, termasuk pembaruan melalui aplikasi | Langkah-langkah update firmware secara umum |\n",
        "| 10 | Apa langkah-langkah troubleshooting jika RoboHome tidak mau menyala? | Menjelaskan troubleshooting dari manual | Jawaban sangat umum tanpa referensi ke dokumentasi |\n",
        "\n",
        "# **4. Analisis Performa**\n",
        "Dari hasil benchmarking, ditemukan bahwa **sistem RAG memberikan jawaban yang lebih akurat dan relevan dibandingkan LLM langsung**. Beberapa keunggulan sistem RAG:\n",
        "✅ **Mengambil informasi spesifik dari dokumentasi RoboHome** → Mengurangi risiko jawaban yang tidak relevan.\n",
        "✅ **Menjawab dengan langkah-langkah yang lebih terstruktur** → Memudahkan pengguna memahami solusi.\n",
        "✅ **Memastikan tidak ada informasi yang hilang** → Semua fitur dan troubleshooting tercakup.\n",
        "\n",
        "Namun, sistem RAG masih memiliki beberapa kekurangan:\n",
        "❌ **Jawaban terkadang kurang variatif** → Perlu optimasi format respons agar lebih alami.\n",
        "❌ **Retrieval bisa lebih luas** → Saat ini hanya mengambil 3 dokumen (`top_k=3`), sebaiknya ditingkatkan ke 5 atau lebih.\n",
        "\n",
        "# **5. Rekomendasi & Kesimpulan**\n",
        "Dari hasil pengujian, RAG terbukti lebih unggul dibandingkan LLM tanpa retrieval dalam skenario berbasis dokumentasi. Beberapa rekomendasi untuk meningkatkan sistem:\n",
        "- **Gunakan `top_k=5` dalam retrieval untuk meningkatkan cakupan dokumen yang diambil.**\n",
        "- **Optimalkan prompt agar jawaban lebih bervariasi dan natural.**\n",
        "- **Tambahkan fallback mechanism jika retrieval tidak mendapatkan dokumen yang relevan.**\n",
        "\n",
        "📌 **Kesimpulan:** Sistem RAG memberikan peningkatan signifikan dalam keakuratan dan relevansi jawaban dibandingkan LLM langsung. Implementasi RAG sangat disarankan untuk sistem berbasis knowledge-base seperti ini.\n",
        "\n"
      ]
    },
    {
      "cell_type": "markdown",
      "metadata": {
        "id": "nP2to9TLXeTy"
      },
      "source": [
        "# Prepare/Format the Synthetic PDF Data for Fine-Tuning"
      ]
    },
    {
      "cell_type": "code",
      "execution_count": 42,
      "metadata": {
        "colab": {
          "base_uri": "https://localhost:8080/"
        },
        "id": "XQrt6xFlWjmb",
        "outputId": "181d49c0-ec4f-4694-bc44-4d5db20388a9"
      },
      "outputs": [
        {
          "name": "stdout",
          "output_type": "stream",
          "text": [
            "✅ Data fine-tuning telah disimpan dalam fine_tuning_data.jsonl\n"
          ]
        }
      ],
      "source": [
        "import json\n",
        "\n",
        "# Daftar pertanyaan dan jawaban dari hasil benchmarking\n",
        "fine_tuning_data = [\n",
        "    {\"instruction\": \"Bagaimana cara menghubungkan RoboHome ke WiFi?\", \"response\": \"Untuk menghubungkan RoboHome ke WiFi, buka aplikasi RoboHome Assistant, lalu ikuti petunjuk untuk menyambungkan perangkat ke jaringan WiFi rumah Anda.\"},\n",
        "    {\"instruction\": \"Apa saja fitur utama yang dimiliki oleh RoboHome?\", \"response\": \"RoboHome memiliki fitur seperti pemetaan LiDAR 360°, kontrol perintah suara, dan daya tahan baterai hingga 24 jam.\"},\n",
        "    {\"instruction\": \"Bagaimana cara melakukan reset ulang pada RoboHome?\", \"response\": \"Untuk mereset ulang RoboHome, tekan tombol reset selama 5 detik hingga indikator berkedip, lalu hubungkan kembali ke aplikasi.\"},\n",
        "    {\"instruction\": \"Apa yang harus dilakukan jika RoboHome tidak dapat kembali ke stasiun pengisian daya?\", \"response\": \"Pastikan tidak ada hambatan di sekitar stasiun pengisian dan RoboHome memiliki jalur yang jelas untuk kembali.\"},\n",
        "    {\"instruction\": \"Bagaimana cara mengaktifkan mode pembersihan otomatis?\", \"response\": \"Mode pembersihan otomatis dapat diaktifkan melalui aplikasi RoboHome dengan mengatur jadwal pembersihan sesuai kebutuhan pengguna.\"},\n",
        "    {\"instruction\": \"Apa keunggulan RoboHome dibandingkan dengan produk lain?\", \"response\": \"RoboHome memiliki navigasi berbasis LiDAR 360° yang lebih akurat, daya tahan baterai lebih lama, dan kompatibilitas dengan lebih banyak platform smart home.\"},\n",
        "    {\"instruction\": \"Bagaimana cara membersihkan dan merawat sensor RoboHome?\", \"response\": \"Bersihkan sensor menggunakan kain microfiber kering dan hindari penggunaan cairan pembersih yang dapat merusak sensor.\"},\n",
        "    {\"instruction\": \"Apakah RoboHome dapat dikontrol dengan perintah suara? Jika ya, bagaimana caranya?\", \"response\": \"Ya, RoboHome dapat dikontrol dengan perintah suara melalui Google Assistant dan Amazon Alexa. Pastikan fitur perintah suara telah diaktifkan dalam aplikasi.\"},\n",
        "    {\"instruction\": \"Bagaimana cara melakukan update firmware RoboHome?\", \"response\": \"Firmware RoboHome dapat diperbarui melalui aplikasi resmi. Pastikan perangkat terhubung ke internet sebelum melakukan pembaruan.\"},\n",
        "    {\"instruction\": \"Apa langkah-langkah troubleshooting jika RoboHome tidak mau menyala?\", \"response\": \"Cek daya baterai, pastikan RoboHome terhubung ke sumber listrik, dan lakukan reset jika diperlukan.\"}\n",
        "]\n",
        "\n",
        "# Simpan dalam format JSONL\n",
        "output_path = \"fine_tuning_data.jsonl\"\n",
        "with open(output_path, \"w\", encoding=\"utf-8\") as f:\n",
        "    for entry in fine_tuning_data:\n",
        "        f.write(json.dumps(entry) + \"\\n\")\n",
        "\n",
        "print(f\"✅ Data fine-tuning telah disimpan dalam {output_path}\")\n"
      ]
    },
    {
      "cell_type": "markdown",
      "metadata": {
        "id": "ftkDaKMtXiSd"
      },
      "source": [
        "\n",
        "---\n",
        "\n",
        "# **6. Formatting Data untuk Fine-Tuning**\n",
        "Untuk melakukan fine-tuning pada model Llama, Gemma, Mistral, dan Phi, dataset dari PDF telah diformat ke dalam format JSONL dengan struktur berikut:\n",
        "\n",
        "```json\n",
        "{\"instruction\": \"Bagaimana cara menghubungkan RoboHome ke WiFi?\", \"response\": \"Untuk menghubungkan RoboHome ke WiFi, buka aplikasi RoboHome Assistant, lalu ikuti petunjuk untuk menyambungkan perangkat ke jaringan WiFi rumah Anda.\"}\n",
        "{\"instruction\": \"Apa saja fitur utama yang dimiliki oleh RoboHome?\", \"response\": \"RoboHome memiliki fitur seperti pemetaan LiDAR 360°, kontrol perintah suara, dan daya tahan baterai hingga 24 jam.\"}\n",
        "```\n",
        "\n",
        "📌 **Langkah-langkah formatting:**\n",
        "1️⃣ **Ekstraksi informasi dari PDF manual RoboHome.**\n",
        "2️⃣ **Membuat pasangan instruction-response berdasarkan informasi yang relevan.**\n",
        "3️⃣ **Menyimpan dataset dalam format JSONL agar sesuai untuk fine-tuning instruction model.**\n",
        "\n",
        "✅ **File `fine_tuning_data.jsonl` telah berhasil dibuat dan siap digunakan untuk fine-tuning.**\n",
        "\n",
        "🚀 **Dokumentasi lengkap! Jika ada tambahan atau revisi, silakan beri tahu saya.**\n"
      ]
    }
  ],
  "metadata": {
    "colab": {
      "name": "Welcome To Colab",
      "provenance": []
    },
    "kernelspec": {
      "display_name": "Python 3",
      "name": "python3"
    }
  },
  "nbformat": 4,
  "nbformat_minor": 0
}
